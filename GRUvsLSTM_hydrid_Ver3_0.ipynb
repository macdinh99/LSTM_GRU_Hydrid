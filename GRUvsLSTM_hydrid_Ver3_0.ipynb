{
  "nbformat": 4,
  "nbformat_minor": 0,
  "metadata": {
    "colab": {
      "provenance": [],
      "mount_file_id": "1gXnWO9NRC_oia3FJSvWbnQ9YfIicAHGQ",
      "authorship_tag": "ABX9TyNXZvnSocCWkBbrDx+qWsmO",
      "include_colab_link": true
    },
    "kernelspec": {
      "name": "python3",
      "display_name": "Python 3"
    },
    "language_info": {
      "name": "python"
    }
  },
  "cells": [
    {
      "cell_type": "markdown",
      "metadata": {
        "id": "view-in-github",
        "colab_type": "text"
      },
      "source": [
        "<a href=\"https://colab.research.google.com/github/macdinh99/LSTM_GRU_Hydrid/blob/main/GRUvsLSTM_hydrid_Ver3_0.ipynb\" target=\"_parent\"><img src=\"https://colab.research.google.com/assets/colab-badge.svg\" alt=\"Open In Colab\"/></a>"
      ]
    },
    {
      "cell_type": "markdown",
      "source": [
        "Buoc 1: Khai bao thu vien lam viec"
      ],
      "metadata": {
        "id": "Q4w791m7rhIM"
      }
    },
    {
      "cell_type": "code",
      "execution_count": 1,
      "metadata": {
        "id": "kaPv8-eyEjc-"
      },
      "outputs": [],
      "source": [
        "import pandas as pd\n",
        "import numpy as np\n",
        "import seaborn as sns\n",
        "import os\n",
        "import math\n",
        "import datetime as dt\n",
        "import matplotlib.pyplot as plt\n",
        "import plotly.graph_objects as go\n",
        "import plotly.express as px\n",
        "from itertools import cycle\n",
        "import tensorflow as tf\n",
        "from sklearn.preprocessing import MinMaxScaler\n",
        "from plotly.subplots import make_subplots\n",
        "#Cac lop xay dung mo hinh\n",
        "from keras.callbacks import ModelCheckpoint\n",
        "from keras.models import load_model\n",
        "from keras.models import Sequential\n",
        "from keras.layers import LSTM,GRU\n",
        "from keras.layers import Dropout\n",
        "from keras.layers import Dense\n",
        "#Kiem tra do chinh xac\n",
        "from sklearn.metrics import r2_score\n",
        "from sklearn.metrics import mean_absolute_error\n",
        "from sklearn.metrics import mean_absolute_percentage_error\n",
        "from sklearn.metrics import accuracy_score\n",
        "from sklearn.metrics import mean_squared_error\n",
        "from sklearn.metrics import explained_variance_score\n",
        "from sklearn.metrics import mean_poisson_deviance, mean_gamma_deviance"
      ]
    },
    {
      "cell_type": "markdown",
      "source": [
        "Buoc 2: Doc du lieu"
      ],
      "metadata": {
        "id": "9GFI2ZMsr098"
      }
    },
    {
      "cell_type": "code",
      "source": [
        "from google.colab import drive\n",
        "drive.mount('/content/drive')"
      ],
      "metadata": {
        "colab": {
          "base_uri": "https://localhost:8080/"
        },
        "id": "OX1u2aB7qGnO",
        "outputId": "09142506-6e45-4433-c923-9f066e31a8a9"
      },
      "execution_count": 53,
      "outputs": [
        {
          "output_type": "stream",
          "name": "stdout",
          "text": [
            "Drive already mounted at /content/drive; to attempt to forcibly remount, call drive.mount(\"/content/drive\", force_remount=True).\n"
          ]
        }
      ]
    },
    {
      "cell_type": "code",
      "source": [
        "#Doc du lieu tu csv\n",
        "df=pd.read_csv('/content/drive/MyDrive/VNindex_Ver4.csv')"
      ],
      "metadata": {
        "id": "E_oGjatoORYZ"
      },
      "execution_count": 54,
      "outputs": []
    },
    {
      "cell_type": "code",
      "source": [
        "df.info()"
      ],
      "metadata": {
        "id": "FH49lrcDtLpB"
      },
      "execution_count": null,
      "outputs": []
    },
    {
      "cell_type": "markdown",
      "source": [
        "Buoc 3: Mo ta va dinh dang du lieu"
      ],
      "metadata": {
        "id": "XQAVDlU2QI-V"
      }
    },
    {
      "cell_type": "code",
      "source": [
        "#Dinh dang cau truc theo time series\n",
        "df[\"Date\"]=pd.to_datetime(df.Date,format=\"%m/%d/%Y\")"
      ],
      "metadata": {
        "id": "F1d1FdbdssAg"
      },
      "execution_count": 57,
      "outputs": []
    },
    {
      "cell_type": "code",
      "source": [
        "#Dinh dang du lieu kieu Object thanh Float\n",
        "df[\"Price\"] = df[\"Price\"].str.replace(\",\", \"\").astype(float)"
      ],
      "metadata": {
        "id": "RZgAhidFC9qs"
      },
      "execution_count": 58,
      "outputs": []
    },
    {
      "cell_type": "code",
      "source": [
        "df = df.sort_values('Date', ascending=True)"
      ],
      "metadata": {
        "id": "Qowz5Aj19r7N"
      },
      "execution_count": 59,
      "outputs": []
    },
    {
      "cell_type": "code",
      "source": [
        "print(\"Starting date: \",df.iloc[0][0])\n",
        "print(\"Ending date: \", df.iloc[-1][0])\n",
        "print(\"Duration: \", df.iloc[-1][0]-df.iloc[0][0])"
      ],
      "metadata": {
        "id": "u_p3XPbX0z79"
      },
      "execution_count": null,
      "outputs": []
    },
    {
      "cell_type": "code",
      "source": [
        "df.describe()"
      ],
      "metadata": {
        "id": "VL7IoEqllYjX"
      },
      "execution_count": null,
      "outputs": []
    },
    {
      "cell_type": "code",
      "source": [
        "df.info()"
      ],
      "metadata": {
        "id": "hPOcfvxvt6vY"
      },
      "execution_count": null,
      "outputs": []
    },
    {
      "cell_type": "markdown",
      "source": [
        "Buoc 4: Chuan bi xu ly du lieu"
      ],
      "metadata": {
        "id": "0U6Y5_cyQosV"
      }
    },
    {
      "cell_type": "code",
      "source": [
        "#Phan lay va xu ly du lieu"
      ],
      "metadata": {
        "id": "DfR_ZEMYx3bq"
      },
      "execution_count": null,
      "outputs": []
    },
    {
      "cell_type": "code",
      "source": [
        "df2=df.copy()"
      ],
      "metadata": {
        "id": "-8zUvkfzs_y-"
      },
      "execution_count": 62,
      "outputs": []
    },
    {
      "cell_type": "code",
      "source": [
        "#Lay du lieu ngay va ket phien giao dich\n",
        "df2=df2[['Date','Price']]"
      ],
      "metadata": {
        "id": "r2rNdQQOvDyY"
      },
      "execution_count": 63,
      "outputs": []
    },
    {
      "cell_type": "code",
      "source": [
        "df2 = df2.sort_values('Date', ascending=True)\n",
        "df2.index=df2.Date"
      ],
      "metadata": {
        "id": "9hkVcOHvv2lg"
      },
      "execution_count": 64,
      "outputs": []
    },
    {
      "cell_type": "code",
      "source": [
        "#Chuan hoa mo hinh\n",
        "del df2['Date']\n",
        "scaler=MinMaxScaler(feature_range=(0,1))\n",
        "df2=scaler.fit_transform(np.array(df2).reshape(-1,1))\n",
        "print(df2.shape)"
      ],
      "metadata": {
        "id": "amhEqpAmctGg"
      },
      "execution_count": null,
      "outputs": []
    },
    {
      "cell_type": "code",
      "source": [
        "#Chia tap du lieu\n",
        "training_size=int(len(df2)*0.80)\n",
        "test_size=len(df2)-training_size\n",
        "train_data,test_data=df2[0:training_size,:],df2[training_size:len(df2),:1]\n",
        "print(\"train_data: \", train_data.shape)\n",
        "print(\"test_data: \", test_data.shape)"
      ],
      "metadata": {
        "id": "ktlq5i8Jdr5t"
      },
      "execution_count": null,
      "outputs": []
    },
    {
      "cell_type": "code",
      "source": [
        "#convert an array of values into a dataset matrix\n",
        "def create_dataset(dataset, time_step=1):\n",
        "    dataX, dataY = [], []\n",
        "    for i in range(len(dataset)-time_step-1):\n",
        "        a = dataset[i:(i+time_step), 0]\n",
        "        dataX.append(a)\n",
        "        dataY.append(dataset[i + time_step, 0])\n",
        "    return np.array(dataX), np.array(dataY)"
      ],
      "metadata": {
        "id": "A9Y_IqFzeYqk"
      },
      "execution_count": 67,
      "outputs": []
    },
    {
      "cell_type": "code",
      "source": [
        "time_step = 50\n",
        "X_train, y_train = create_dataset(train_data, time_step)\n",
        "X_test, y_test = create_dataset(test_data, time_step)\n",
        "\n",
        "print(\"X_train: \", X_train.shape)\n",
        "print(\"y_train: \", y_train.shape)\n",
        "print(\"X_test: \", X_test.shape)\n",
        "print(\"y_test\", y_test.shape)"
      ],
      "metadata": {
        "id": "OEZCTxmheo8g"
      },
      "execution_count": null,
      "outputs": []
    },
    {
      "cell_type": "code",
      "source": [
        "X_train =X_train.reshape(X_train.shape[0],X_train.shape[1] , 1)\n",
        "X_test = X_test.reshape(X_test.shape[0],X_test.shape[1] , 1)\n",
        "\n",
        "print(\"X_train: \", X_train.shape)\n",
        "print(\"X_test: \", X_test.shape)"
      ],
      "metadata": {
        "id": "_tBQUAuDeyUu"
      },
      "execution_count": null,
      "outputs": []
    },
    {
      "cell_type": "code",
      "source": [
        "X_train\n",
        "X_test"
      ],
      "metadata": {
        "id": "2u1hDnUetWJE"
      },
      "execution_count": null,
      "outputs": []
    },
    {
      "cell_type": "code",
      "source": [
        "temp_y_train=y_train\n",
        "temp_y_test=y_test\n",
        "f, (ax1,ax2) = plt.subplots(1, 2, figsize=(14,5))\n",
        "ax1.hist(y_train, bins=20, color='blue', alpha=0.7)\n",
        "ax1.set_xlabel(\"Giá trị\", fontsize=12)\n",
        "ax1.set_ylabel(\"Tần suất\")\n",
        "ax1.set_title(\"(a)\")\n",
        "ax2.hist(y_test, bins=20, color='green', alpha=0.7)\n",
        "ax2.set_xlabel(\"Giá trị\", fontsize=12)\n",
        "ax2.set_ylabel(\"Tần suất\")\n",
        "ax2.set_title(\"(b)\")\n",
        "ax2.legend()"
      ],
      "metadata": {
        "id": "pnW28I_zAZLq"
      },
      "execution_count": null,
      "outputs": []
    },
    {
      "cell_type": "code",
      "source": [
        "#Ket thuc phan lay va xu ly du lieu"
      ],
      "metadata": {
        "id": "ZEuiUlmcx8z6"
      },
      "execution_count": null,
      "outputs": []
    },
    {
      "cell_type": "markdown",
      "source": [
        "Buoc 5: Xay dung va huan luyen mo hinh"
      ],
      "metadata": {
        "id": "XKLKmkslRP6Q"
      }
    },
    {
      "cell_type": "code",
      "source": [
        "#GRU: Xay dung mo hinh"
      ],
      "metadata": {
        "id": "RKEcz1pSe_iT"
      },
      "execution_count": null,
      "outputs": []
    },
    {
      "cell_type": "code",
      "source": [
        "tf.keras.backend.clear_session()\n",
        "model=Sequential()\n",
        "model.add(GRU(128,return_sequences=True,input_shape=(time_step,1)))\n",
        "model.add(GRU(64))\n",
        "model.add(Dropout(0.25))\n",
        "model.add(Dense(1))\n",
        "model.compile(loss='mean_absolute_error',optimizer='adam')"
      ],
      "metadata": {
        "id": "WWmz-WeOfBt1"
      },
      "execution_count": 71,
      "outputs": []
    },
    {
      "cell_type": "code",
      "source": [
        "model.summary()"
      ],
      "metadata": {
        "id": "C-cCqvfshBca"
      },
      "execution_count": null,
      "outputs": []
    },
    {
      "cell_type": "code",
      "source": [
        "#GRU: Ket thuc xay dung mo hinh"
      ],
      "metadata": {
        "id": "Drxii2oX-tPt"
      },
      "execution_count": null,
      "outputs": []
    },
    {
      "cell_type": "code",
      "source": [
        "#LSTM: Xay dung mo hinh"
      ],
      "metadata": {
        "id": "31L7kZKe-xfW"
      },
      "execution_count": null,
      "outputs": []
    },
    {
      "cell_type": "code",
      "source": [
        "tf.keras.backend.clear_session()\n",
        "model=Sequential()\n",
        "model.add(LSTM(128,return_sequences=True,input_shape=(time_step,1)))\n",
        "model.add(LSTM(64))\n",
        "model.add(Dropout(0.25))\n",
        "model.add(Dense(1))\n",
        "model.compile(loss='mean_absolute_error',optimizer='adam')"
      ],
      "metadata": {
        "id": "aWT_nBwS-zlJ"
      },
      "execution_count": 17,
      "outputs": []
    },
    {
      "cell_type": "code",
      "source": [
        "model.summary()"
      ],
      "metadata": {
        "id": "PpWgZa3F_BF0"
      },
      "execution_count": null,
      "outputs": []
    },
    {
      "cell_type": "code",
      "source": [
        "#LSTM: Ket thuc xay dung mo hinh"
      ],
      "metadata": {
        "id": "vCZtL4Ib-0AR"
      },
      "execution_count": null,
      "outputs": []
    },
    {
      "cell_type": "code",
      "source": [
        "#GRU-LSTM hydrid: Xay dung mo hinh"
      ],
      "metadata": {
        "id": "UjC3CRPlprDD"
      },
      "execution_count": null,
      "outputs": []
    },
    {
      "cell_type": "code",
      "source": [
        "tf.keras.backend.clear_session()\n",
        "model=Sequential()\n",
        "model.add(GRU(64,return_sequences=True,input_shape=(time_step,1)))\n",
        "model.add(GRU(32,return_sequences=True))\n",
        "model.add(LSTM(64,return_sequences=True))\n",
        "model.add(LSTM(32))\n",
        "model.add(Dense(1))\n",
        "model.compile(loss='mean_absolute_error',optimizer='adam')"
      ],
      "metadata": {
        "id": "WJFziwVBpphs"
      },
      "execution_count": 41,
      "outputs": []
    },
    {
      "cell_type": "code",
      "source": [
        "model.summary()"
      ],
      "metadata": {
        "id": "AZCMdh3np74J"
      },
      "execution_count": null,
      "outputs": []
    },
    {
      "cell_type": "code",
      "source": [
        "#GRU-LSTM hydrid: Ket thuc xay dung mo hinh"
      ],
      "metadata": {
        "id": "EBN3DnPgpzgP"
      },
      "execution_count": null,
      "outputs": []
    },
    {
      "cell_type": "code",
      "source": [
        "#LSTM-GRU hydrid: Xay dung mo hinh"
      ],
      "metadata": {
        "id": "ow2_rspUCTh6"
      },
      "execution_count": null,
      "outputs": []
    },
    {
      "cell_type": "code",
      "source": [
        "tf.keras.backend.clear_session()\n",
        "model=Sequential()\n",
        "model.add(LSTM(64,return_sequences=True,input_shape=(time_step,1)))\n",
        "model.add(LSTM(32,return_sequences=True))\n",
        "model.add(GRU(64,return_sequences=True))\n",
        "model.add(GRU(32))\n",
        "model.add(Dense(1))\n",
        "model.compile(loss='mean_absolute_error',optimizer='adam')"
      ],
      "metadata": {
        "id": "jYao36IuCZlM"
      },
      "execution_count": 18,
      "outputs": []
    },
    {
      "cell_type": "code",
      "source": [
        "model.summary()"
      ],
      "metadata": {
        "id": "AedBz9_kCsXC"
      },
      "execution_count": null,
      "outputs": []
    },
    {
      "cell_type": "code",
      "source": [
        "#LSTM-GRU hydrid: Ket thuc xay dung mo hinh"
      ],
      "metadata": {
        "id": "GMNyhYkcCZ9p"
      },
      "execution_count": null,
      "outputs": []
    },
    {
      "cell_type": "code",
      "source": [
        "#Huan luyen mo hinh"
      ],
      "metadata": {
        "id": "Mb48gATn_hDw"
      },
      "execution_count": null,
      "outputs": []
    },
    {
      "cell_type": "code",
      "source": [
        "start_time = dt.datetime.now()\n",
        "history1 = model.fit(X_train,y_train,validation_data=(X_test,y_test),epochs=100,batch_size=50,verbose=1)\n",
        "end_time = dt.datetime.now()\n",
        "execution_time = end_time - start_time\n",
        "print(\"Thời gian thực thi: \", execution_time)"
      ],
      "metadata": {
        "id": "qgbDFDUFhSa0"
      },
      "execution_count": null,
      "outputs": []
    },
    {
      "cell_type": "code",
      "source": [
        "# Summarize history for loss\n",
        "loss = history1.history['loss']\n",
        "val_loss = history1.history['val_loss']\n",
        "epochs = range(len(loss))\n",
        "plt.plot(epochs, loss, 'r', label='Training loss')\n",
        "plt.plot(epochs, val_loss, 'b', label='Validation loss')\n",
        "plt.locator_params(axis='y', nbins=15, tight=True)\n",
        "plt.title('Training and validation loss')\n",
        "plt.ylabel('loss')\n",
        "plt.xlabel('epoch')\n",
        "plt.legend(loc=0)\n",
        "plt.figure()\n",
        "plt.show()"
      ],
      "metadata": {
        "id": "iCqxrhOch6ot"
      },
      "execution_count": null,
      "outputs": []
    },
    {
      "cell_type": "code",
      "source": [
        "#Ket thuc huan luyen mo hinh"
      ],
      "metadata": {
        "id": "QJ2UK6W-_jTz"
      },
      "execution_count": null,
      "outputs": []
    },
    {
      "cell_type": "markdown",
      "source": [
        "Buoc 6: Ap dung mo hinh"
      ],
      "metadata": {
        "id": "BYEhiWbvn4bH"
      }
    },
    {
      "cell_type": "code",
      "source": [
        "#Ap dung mo hinh"
      ],
      "metadata": {
        "id": "z6Zm3oMR_p3I"
      },
      "execution_count": null,
      "outputs": []
    },
    {
      "cell_type": "code",
      "source": [
        "# Lets Do the prediction and check performance metrics\n",
        "train_predict=model.predict(X_train)\n",
        "test_predict=model.predict(X_test)\n",
        "train_predict.shape, test_predict.shape"
      ],
      "metadata": {
        "id": "v-GRQuKcjITo"
      },
      "execution_count": null,
      "outputs": []
    },
    {
      "cell_type": "code",
      "source": [
        "#Do thi phan bo y_train va traim_predict"
      ],
      "metadata": {
        "id": "kWBEBDQsB7_q"
      },
      "execution_count": null,
      "outputs": []
    },
    {
      "cell_type": "code",
      "source": [
        "f, (ax1,ax2) = plt.subplots(1, 2, figsize=(14,5))\n",
        "ax1.hist(train_predict, bins=20, color='blue', alpha=0.7,label='Tập dự báo')\n",
        "ax1.hist(temp_y_train, bins=20, color='pink', alpha=0.7,label='Tập huấn luyện')\n",
        "ax1.set_xlabel(\"Giá trị\", fontsize=12)\n",
        "ax1.set_ylabel(\"Tần suất\")\n",
        "ax1.set_title(\"(a)\")\n",
        "ax2.hist(test_predict, bins=20, color='green', alpha=0.7, label='Tập dự báo')\n",
        "ax2.hist(temp_y_test, bins=20, color='red', alpha=0.7, label='Tập giám sát')\n",
        "ax2.set_xlabel(\"Giá trị\", fontsize=12)\n",
        "ax2.set_ylabel(\"Tần suất\")\n",
        "ax2.set_title(\"(b)\")\n",
        "ax1.legend()\n",
        "ax2.legend()"
      ],
      "metadata": {
        "id": "jXQe3_atBtEN"
      },
      "execution_count": null,
      "outputs": []
    },
    {
      "cell_type": "code",
      "source": [
        "# Transform back to original form\n",
        "train_predict = scaler.inverse_transform(train_predict)\n",
        "test_predict = scaler.inverse_transform(test_predict)\n",
        "original_ytrain = scaler.inverse_transform(y_train.reshape(-1,1))\n",
        "original_ytest = scaler.inverse_transform(y_test.reshape(-1,1))"
      ],
      "metadata": {
        "id": "5RA2CbMtjmih"
      },
      "execution_count": 34,
      "outputs": []
    },
    {
      "cell_type": "code",
      "source": [
        "# shift train predictions for plotting\n",
        "close_stock = df.copy()\n",
        "look_back=time_step\n",
        "trainPredictPlot = np.empty_like(df2)\n",
        "trainPredictPlot[:, :] = np.nan\n",
        "trainPredictPlot[look_back:len(train_predict)+look_back, :] = train_predict\n",
        "print(\"Train predicted data: \", trainPredictPlot.shape)\n",
        "\n",
        "# shift test predictions for plotting\n",
        "testPredictPlot = np.empty_like(df2)\n",
        "testPredictPlot[:, :] = np.nan\n",
        "testPredictPlot[len(train_predict)+(look_back*2)+1:len(df2)-1, :] = test_predict\n",
        "print(\"Test predicted data: \", testPredictPlot.shape)\n",
        "\n",
        "names = cycle(['Thực tế','Dự báo tập huấn luyện','Dự báo tập giám sát'])\n",
        "\n",
        "\n",
        "plotdf = pd.DataFrame({'Date': close_stock['Date'],\n",
        "                       'original_close': close_stock['Price'],\n",
        "                      'train_predicted_close': trainPredictPlot.reshape(1,-1)[0].tolist(),\n",
        "                      'test_predicted_close': testPredictPlot.reshape(1,-1)[0].tolist()})\n",
        "\n",
        "fig = px.line(plotdf,x=plotdf['Date'], y=[plotdf['original_close'],plotdf['train_predicted_close'],\n",
        "                                          plotdf['test_predicted_close']],\n",
        "              labels={'value':'Chỉ số VNIndex','Date': 'Thời gian'})\n",
        "fig.update_layout(title_text='Biểu đồ so sánh chỉ số VNIndex thực tế và dự báo', title_x=0.5,\n",
        "                  plot_bgcolor='white', font_size=15, font_color='black', legend_title_text='Chỉ số VNIndex')\n",
        "fig.for_each_trace(lambda t:  t.update(name = next(names)))\n",
        "\n",
        "fig.update_xaxes(showgrid=False)\n",
        "fig.update_yaxes(showgrid=False)\n",
        "fig.show()"
      ],
      "metadata": {
        "id": "Z2EPaXJhkNJp"
      },
      "execution_count": null,
      "outputs": []
    },
    {
      "cell_type": "code",
      "source": [
        "#Ket thuc ap dung mo hinh"
      ],
      "metadata": {
        "id": "gLe5JcWjmwNW"
      },
      "execution_count": null,
      "outputs": []
    },
    {
      "cell_type": "markdown",
      "source": [
        "Buoc 7: Đo lường độ chính xác"
      ],
      "metadata": {
        "id": "NYPpkFqZphBg"
      }
    },
    {
      "cell_type": "code",
      "source": [
        "#Do luong"
      ],
      "metadata": {
        "id": "n5dT47COpiC4"
      },
      "execution_count": null,
      "outputs": []
    },
    {
      "cell_type": "code",
      "source": [
        "print(\"Train data R2 score:\", r2_score(original_ytrain, train_predict))\n",
        "print(\"Train data explained variance regression score:\", explained_variance_score(original_ytrain, train_predict))\n",
        "print(\"Train data MGD: \", mean_gamma_deviance(original_ytrain, train_predict))\n",
        "print(\"Train data MPD: \", mean_poisson_deviance(original_ytrain, train_predict))\n",
        "print(\"Train data RMSE: \", math.sqrt(mean_squared_error(original_ytrain,train_predict)))\n",
        "print(\"Train data MSE: \", mean_squared_error(original_ytrain,train_predict))\n",
        "print(\"Train data MAE: \", mean_absolute_error(original_ytrain,train_predict))\n",
        "print('Train data MAPE:',mean_absolute_percentage_error(original_ytrain,train_predict))\n",
        "print(\"-------------------------------------------------------------------------------------\")\n",
        "print(\"Test data R2 score:\", r2_score(original_ytest, test_predict))\n",
        "print(\"Test data explained variance regression score:\", explained_variance_score(original_ytest, test_predict))\n",
        "print(\"Test data MGD: \", mean_gamma_deviance(original_ytest, test_predict))\n",
        "print(\"Test data MPD: \", mean_poisson_deviance(original_ytest, test_predict))\n",
        "print(\"Test data RMSE: \", math.sqrt(mean_squared_error(original_ytest,test_predict)))\n",
        "print(\"Test data MSE: \", mean_squared_error(original_ytest,test_predict))\n",
        "print(\"Test data MAE: \", mean_absolute_error(original_ytest,test_predict))\n",
        "print('Test data MAPE:',mean_absolute_percentage_error(original_ytest,test_predict))"
      ],
      "metadata": {
        "id": "k0JgNub8psih"
      },
      "execution_count": null,
      "outputs": []
    },
    {
      "cell_type": "code",
      "source": [
        "#Ket thu do luong"
      ],
      "metadata": {
        "id": "i4x0Kf_Xptqw"
      },
      "execution_count": null,
      "outputs": []
    },
    {
      "cell_type": "markdown",
      "source": [
        "Buoc 8: Du bao"
      ],
      "metadata": {
        "id": "nokjocHBpB0x"
      }
    },
    {
      "cell_type": "code",
      "source": [
        "#Ung dung mo hinh de bao 100 ngay tiep theo"
      ],
      "metadata": {
        "id": "lqdzUANRmUde"
      },
      "execution_count": 109,
      "outputs": []
    },
    {
      "cell_type": "code",
      "source": [
        "x_input=test_data[len(test_data)-time_step:].reshape(1,-1)\n",
        "temp_input=list(x_input)\n",
        "temp_input=temp_input[0].tolist()\n",
        "\n",
        "from numpy import array\n",
        "\n",
        "lst_output=[]\n",
        "n_steps=time_step\n",
        "i=0\n",
        "pred_days = 50\n",
        "while(i<pred_days):\n",
        "\n",
        "    if(len(temp_input)>time_step):\n",
        "\n",
        "        x_input=np.array(temp_input[1:])\n",
        "        #print(\"{} day input {}\".format(i,x_input))\n",
        "        x_input = x_input.reshape(1,-1)\n",
        "        x_input = x_input.reshape((1, n_steps, 1))\n",
        "\n",
        "        yhat = model.predict(x_input, verbose=0)\n",
        "        #print(\"{} day output {}\".format(i,yhat))\n",
        "        temp_input.extend(yhat[0].tolist())\n",
        "        temp_input=temp_input[1:]\n",
        "        #print(temp_input)\n",
        "\n",
        "        lst_output.extend(yhat.tolist())\n",
        "        i=i+1\n",
        "\n",
        "    else:\n",
        "\n",
        "        x_input = x_input.reshape((1, n_steps,1))\n",
        "        yhat = model.predict(x_input, verbose=0)\n",
        "        temp_input.extend(yhat[0].tolist())\n",
        "\n",
        "        lst_output.extend(yhat.tolist())\n",
        "        i=i+1\n",
        "\n",
        "print(\"Output of predicted next days: \", len(lst_output))"
      ],
      "metadata": {
        "colab": {
          "base_uri": "https://localhost:8080/"
        },
        "id": "gQAy56zQpDT3",
        "outputId": "762e0fe8-b10c-4e8f-ea9e-c48cd2e3f2b1"
      },
      "execution_count": 37,
      "outputs": [
        {
          "output_type": "stream",
          "name": "stdout",
          "text": [
            "Output of predicted next days:  50\n"
          ]
        }
      ]
    },
    {
      "cell_type": "code",
      "source": [
        "last_days=np.arange(1,time_step+1)\n",
        "day_pred=np.arange(time_step+1,time_step+pred_days+1)\n",
        "print(last_days)\n",
        "print(day_pred)"
      ],
      "metadata": {
        "id": "1z7MhyR5pPPa"
      },
      "execution_count": null,
      "outputs": []
    },
    {
      "cell_type": "code",
      "source": [
        "temp_mat = np.empty((len(last_days)+pred_days+1,1))\n",
        "temp_mat[:] = np.nan\n",
        "temp_mat = temp_mat.reshape(1,-1).tolist()[0]\n",
        "\n",
        "last_original_days_value = temp_mat\n",
        "next_predicted_days_value = temp_mat\n",
        "\n",
        "last_original_days_value[0:time_step+1] = scaler.inverse_transform(df2[len(df2)-time_step:]).reshape(1,-1).tolist()[0]\n",
        "next_predicted_days_value[time_step+1:] = scaler.inverse_transform(np.array(lst_output).reshape(-1,1)).reshape(1,-1).tolist()[0]\n",
        "\n",
        "new_pred_plot = pd.DataFrame({\n",
        "    'last_original_days_value':last_original_days_value,\n",
        "    'next_predicted_days_value':next_predicted_days_value\n",
        "})\n",
        "\n",
        "names = cycle(['Dự báo 50 ngày đầu tiên','Dự báo 50 ngày kế tiếp'])\n",
        "\n",
        "fig = px.line(new_pred_plot,x=new_pred_plot.index, y=[new_pred_plot['last_original_days_value'],\n",
        "                                                      new_pred_plot['next_predicted_days_value']],\n",
        "              labels={'value': 'Chỉ số VNIndex','index': 'Mốc thời gian'}, color_discrete_sequence=['blue','red'])\n",
        "fig.update_traces(line_color='blue', selector=dict(name='Dự báo 50 ngày đầu tiên'))\n",
        "fig.update_traces(line_color='red', selector=dict(name='Dự báo 50 ngày kế tiếp'))\n",
        "for trace, name in zip(fig.data, names):\n",
        "    trace.name = name\n",
        "fig.update_layout(title_text='Biểu đồ xu hướng 50 ngày đầu và 50 ngày tiếp theo', title_x=0.5,\n",
        "                  plot_bgcolor='white', font_size=15, font_color='black',legend_title_text='Chỉ số VNIndex')\n",
        "\n",
        "fig.for_each_trace(lambda t:  t.update(name = next(names)))\n",
        "fig.update_xaxes(showgrid=True)\n",
        "fig.update_yaxes(showgrid=True)\n",
        "fig.show()"
      ],
      "metadata": {
        "id": "-7UTuRElpa2c"
      },
      "execution_count": null,
      "outputs": []
    },
    {
      "cell_type": "code",
      "source": [
        "lstmdf=df2.tolist()\n",
        "lstmdf.extend((np.array(lst_output).reshape(-1,1)).tolist())\n",
        "lstmdf=scaler.inverse_transform(lstmdf).reshape(1,-1).tolist()[0]\n",
        "\n",
        "names = cycle(['Chỉ số VNIndex'])\n",
        "\n",
        "fig = px.line(lstmdf,labels={'value': 'Chỉ số VNIndex','index': 'Mốc thời gian'})\n",
        "fig.update_layout(title_text='Biểu đồ xu hướng chỉ số VNIndex', title_x=0.5,\n",
        "                  plot_bgcolor='white', font_size=15, font_color='black',legend_title_text='Xu hướng')\n",
        "\n",
        "fig.for_each_trace(lambda t:  t.update(name = next(names)))\n",
        "\n",
        "fig.update_xaxes(showgrid=False)\n",
        "fig.update_yaxes(showgrid=False)\n",
        "plt.savefig('dothi.png')\n",
        "fig.show()"
      ],
      "metadata": {
        "id": "rDbnH7IFp3vJ"
      },
      "execution_count": null,
      "outputs": []
    },
    {
      "cell_type": "code",
      "source": [
        "#Ket thu ung dung mo hinh du bao 100 ngay tiep theo"
      ],
      "metadata": {
        "id": "EVKqjp-0mgzG"
      },
      "execution_count": null,
      "outputs": []
    }
  ]
}